{
  "nbformat": 4,
  "nbformat_minor": 0,
  "metadata": {
    "colab": {
      "name": "emotion_prediction.ipynb",
      "provenance": [],
      "collapsed_sections": [],
      "toc_visible": true
    },
    "kernelspec": {
      "name": "python3",
      "display_name": "Python 3"
    }
  },
  "cells": [
    {
      "cell_type": "code",
      "metadata": {
        "id": "Luy3z50Ld-65"
      },
      "source": [
        "import librosa\n",
        "import librosa.display\n",
        "import numpy as np\n",
        "import matplotlib.pyplot as plt\n",
        "import tensorflow as tf\n",
        "from matplotlib.pyplot import specgram\n",
        "import pandas as pd\n",
        "import glob \n",
        "from sklearn.metrics import confusion_matrix\n",
        "import IPython.display as ipd  # To play sound in the notebook\n",
        "import os\n",
        "import sys\n",
        "import warnings\n",
        "from keras.models import model_from_json"
      ],
      "execution_count": null,
      "outputs": []
    },
    {
      "cell_type": "code",
      "metadata": {
        "id": "WRNW5jCUgk_m",
        "outputId": "9d3464a5-e5e3-49ae-d7d7-c160b341bb4c",
        "colab": {
          "base_uri": "https://localhost:8080/",
          "height": 75
        }
      },
      "source": [
        "#data, sampling_rate = librosa.load('/content/drive/My Drive/sample/WhatsApp Ptt 2020-10-10 at 5.28.20 PM.ogg')\n",
        "ipd.Audio('/content/drive/My Drive/sample/WhatsApp Ptt 2020-10-10 at 5.30.49 PM.ogg')"
      ],
      "execution_count": null,
      "outputs": [
        {
          "output_type": "execute_result",
          "data": {
            "text/html": [
              "\n",
              "                <audio controls=\"controls\" >\n",
              "                    <source src=\"data:audio/ogg;base64,T2dnUwACAAAAAAAAAAAAAAAAAAAAACqCBoIBE09wdXNIZWFkAQFoAIA+AAAAAABPZ2dTAAAAAAAAAAAAAAAAAAABAAAAjzLsvAEYT3B1c1RhZ3MIAAAAV2hhdHNBcHAAAAAAT2dnUwAAqFUBAAAAAAAAAAAAAgAAAC9Vq4dbCAkILi8yLDIqLy4wKywuMS8vMzI3NTc3NTM6MTY4NDUvKScqKS4qKy02OjUxLi8zJCAhKS0lMDU8PzU4OzU1KzQwLjEyLiotLS4qMS4sKSovLSwqICYgIh0oJkgL5ME27MWASAfJcifhROpQSAfgQ5XQLWFIgXua1nsz0pttwWR7E7cB+a8MBOQeaktGW21HSJJeC1Zw7z3T1YaJnSZFOdrgSJBO8xfMfiKrPcmDa7yMoOA3CUzlkEEHi3lGrSVBJCtWoWWhDotrbgcePQuquJ1IkOoZnbcyd8PkwdOTcdyIIaPNwq6+h9gC1oldg4zQXMJ6GXJK8XYoP5fawzyFpDZiIEiDhjfO+gkkOszstXDQy40rKD7PV+cdXc4v7q6seJFRbpPeoLIlK4y732nWSJDp8fejA+VXgr/p4Px1PwwZa/O2bb24XZuA1aLJ4CPeXPd2QTGku66bHUyyVDjVJUBIkOoYsQ2MmgFCfu6TVxbawJKXP7IpLbbNfY51RRkGLUxjuSBT644O2PBIkOcP0fFTRhZGMYrvIFJL4+HSVJTz0QKOX7COIH+gwJ/yryuqJszdrsj6TvWue0iQ6ffmabdntMBoKL4N+WwCviuNeMweUfnjVhJMGggqmD0meFJcdvWnq1jmB4BIkOczvzN5qsxiCkUbKkNEuGrhlCNTAxJXgNrdAKQzw1zjkLHeY/FRAfGNOuEQPkBIkN2lXLIoCNWjHNcjPRd+09WFM1QTF7NPMTNeJUFSvb0UIOy5nUNwWpF4SIOGN9go2M2BGaEh2Pythd812QV8IHV2Fk9VCBdjlxo8gARgyNS3R5q4J0RIkOcp0AfmfCEH1N/m+QlwwRFBZRFWLApKt39gbF3yhYKG8PdTODQjESJceD6ASJDd1qx7JXAaYE7dlo4saDSdwZGK3w5UjVQtizQRdQ7YO6q6iQ9kDrjL08NQYPrSYEiDjNjG7UZbfw2ScGq+abDI/K23URZewECKuxNttLcsaB8MDxLQCjgqyrIy2SuoSJP6KZgZq3lmHW3S3BlYiB5QvI4hTtcZ5M1BDROWP5d6ZdxWaPXW17UZPSFKlmBIsWWSWTQMCuNcQUaYsIw/dhoUOC+AKGa3MVrnVo3rQEbOdzEVWAVR60fA39E5W4xKPkBIsHtV+Pknbour3NFGPx+OfKdabV18OPIR2+QCbJC7LNLw3ifkSxrXI1nPUye/l0UAQEix9OrsP/yJCdBmIljORDrGj+/PHl/USvvD10cUZXSM4OvE5L0QbGXCRLpSUti/9K22O61mr8BIscdtifw59/xSeVfIyFQaaCfPEaYuRQm9NgtMaV6caDdw8tQQKZbnT9gVW2RCzO01JY4YYEiwZixI6/12EmHvdH+O8mhA+j0JtP+b0UFVrGq3a8z1eYueZAbcuMyRi2cF+S5B7VQXv7RjnkhIsJhg72/4VMaqHAF6h2eBxTzG7M0S1ZGergh+oeZyIRxVgQVCuvqO7sR8qKiY2YTTaow/0MJASLOYmoc+ReRS/gKOJK7J4HBz77TmS9xKv+3rZyj8KY51Q7FdoXJa217jT3c+hmoe3Gkz9YBIsfSXMF8VHOXusxUJfmVtcITVT56IpchGVsYfTSMaO4OZfPDFkpkdU2Jic/Lkl9nBaXJIsiclh8NcHHmCc2IPbNYd+0h/3XMpvTiPvn8RYccL/+NnUo5HPxbP1HOXI2BYqaqS6xMRG3x3oRx4SLPLl3KMDLuPtQiLIa0py9H7y7N8/HzaWJ8lfwdNhR8yMKW/EFwFzyFc43IDDRaCUEizy7Sc2R2i34ijiTsC5n67JNv7crj+KRKi59WH0NZvfn0ylECo/6sf83zsFJ7Yv7X3BTwBMEi1YS2oxATDyJnn2h9CDhDDgDVCmhClrmCwbrWqyBkAUj7bwaSyhTVyBbjAufVHBj6JTHT0dqhgSLfXT8+znp9c9HVUgJcQ5A+F6dMl6SUkuwsbmvstb2x3QlHMdm+NuPtpEgaG12sXtB2xQEiVUqW9kAoXBPjgW2g7y8a1x6/mwLZI2TtBdBibXg0vfFQ2VovHfsWiWKOHTD7HQbErA0yASIT+ey61Hz+9zrteLqrgpyV98dypCtfzRms8pyIhPiAJVGK17Cs5lBw+gNMWGnRIhR1TMw995J78zTZA7hWgWqMEht687Fcf2zDiD/1LBY5O687swjVfHEiFDdZtu8WjLY4t1QpWlXmi58dK7sa4qZl880r/erODLQPh5ux9wEiTJDV7N2hJhw6uJq3Pp64kGtmUgpsJaLrHUwytJYKi9gE+GG+FAzNHMEiS9GnN+vhRdiIGOXvKsKZ3SbNSB2ThSbMhz0I9jkpZcMT5gmqtGdNASIQjxaR8K8arYG2cXRm8j02te8WyiIdZi6CUYtqY67gH6sUwARK2OPDjYOuMIEiUUP2jq8Jcn2up4j9nYd0QLSiVSoLCHphStopfuqD3qhH5Q6QLcu9j8Ei00PmLvavVaaTsz8gAc95LR2v86AfpEu/PR2rnM1QgBg21ktP65nIYsCRIse7/ziR/ua+GOge/bzWri6Gx2cADrbln860EWMaxK8YD7AAFh96Nr48g0KhIsgvh4lsEmGa1yW5n1CJznG6GG2r1ynWUq4erKZDLhvbpwhKSCf6OL3uO8yEza/qePlrEK4BIshTVbo3QRU4YS/2FmMhgWOr0Fcgpu6DIBc9b2Oxi+ZiVKNVmjiWY8l6Ejvl9v8ZoaJkvzwcv4eibSLIU4Dihq5ZKtHpj4mjKEoD2rUtycs2h5f6loBaT1ByiUmBcqJJqiWFasKZPNE4nzffSv15IsiZEFpd9iNRpbrdYKCJOIoHi+RclM9VNQEhs7r5BQr59j9w3/PEVIpANx9Vg7MWgSLO/S+On0Gf26isiYu/nALv7z74x/q21DdZK/ZU/ep7QCzO3TkhNl9pd1IjtQEizneHMRPNpyBRdlzNDczLaeApLZd7tZ7Frg3nHXEGICWcJ7tE1Xo3zy6H/eVssSLIUMHj/9kRa0Lx8hRhrQo1iM34xzI5fvxJy2IV0EPgpP9Jhpjdr3rjH2obC1vwmmJj0SJKU9him9mG/IC+jTvK66fICniDLclXdk04LWYsO4zVaS+ZASD7JbFKEouM7soib1+FW1xWLR4zwfBXqxDRB53nJOfZIPsZkgVwhda4POClV72lHXIwRRquCbbBQiNAPHFL4rNhIg+l3v70sAp6HSVDBWsel/VviQN8ZMWDjnDqiyxPFrk3MQKkuSailSEiEm+hVyryLQw4Waubcn3SDdaBU2lVPLm8TwU9u9nvb4lP0FZFAbfjwXu/yBUiTgQDUyuaNXD/4u4zVUzHqKM1lsNtkKc+CC1Q/2B2dYmAy58hIhEND8zp1fk48ZZ4d4b9pq3p23lINzR4dEJdXBArqfXkIb05remBQ1CVSS43YXcBIscZieKd/aqPmBEb971P0dLGPIfA/sTKJlFZj3NZWfdLdGiEINwadU9RxZHTL59WnhhD9S0iyFHB9/aDFLtkn0sAWM8i+Q04LqeM+Ug9ZiVAo+aZq6+lD83t44CSmYM9MCLjZFhS8uH2VrB5JJnBqxEizsyUZXH1hjD7QkV9YydsASAiTG85Fr/tzSkCDIRCNTqOfQO6ba2FVjnqFKVtkQN/isLm44y91RaI4c5Pvzkizrw5KKB1xMu27CjPPOablZT6I90aDzyy/8G40+iNg+SvuvSLSW5lulFE0JgVo8telq2yISLOo4ieHmyJq9limTM0OgtflDg9xme9+EXBmpkefac4iKU+IXU7edlt66/InNQqd6sS7/hp2MJhIs99KWvxNDQ4VkYo9iBKKZbacojdmKxoN1Id3sY5kLMqTvcBbf0qwnyqv3PyHWjcIH4/Cqhn3UrTLYEi1G46iTD0L35tOXQpCba3CcbS+NxLGMJD0b7ZThfO8SZD2sP0GTX7bPkKrzZ9wBsSnqHgwSLUm8Sy96jqS1x+aBq2L5R6pwmqQfZ1JQkc5EAcZwgybEy+bJwaSCfRroXvy7CkfWDUHbOxItbhJy3bN67KNJ3LRn4JYsvu5CDhzI0ckG/PjSIXZAJbQ8d3/Y3Tr7wDUSLUanJ9lJH/GYD951Y8MVw71OKqGTL9ioigJDMqHdoT0TVbDjKoRk+QYNAZ6Mte2v/UlwEi1GzQWkI0BodGKwsrqLMA/1/3aM7WxYVbd+Nc0Q+oqMrNZLZRdk0qPuXaGmLQ1oEi1Gy3Kd9TyFL8lIw4aQ8+ZJXSSvaCHBZVzaApUZLxFH3+rAMw3VitBQZA7PghItNF/RZriXLHKqdTeAMFJxfmQwoyexE/Rf6BGv5MTSfmbVJGysQpiv+hjrwfATKPsSLPHoDQlIQRC3b8/TOb4hHk1/NuGqEnFE4kKmPjZYbkYNe6JUtEcIFl3qa1EOIXdO4BIs77rCajYVOQwrC8rVNmkHHIjVlK/22oOHuzIQXiTQZS4HhRwa67utpugmqf1SJM4o5UqlgPDMjouEmW4vo1Hn4Zc6doW+sG3F/WCNXy3B5t3oV9ZfbwcSJSbvujkTF94XWJntg3P0dc7QX0SiSnnfSnH4J9Flb28O+/yI0+bDqpycX7ASJUItBTheQeol/KWdcttbOSUhbkQUqr5lICxbTh8sN1pbsMYKNE0fXs4hZWrSJVYjuyBZEmlxLZT8XEHKLuW9UklzxGtG30Kete3jaXJ1OAL+ghtBCqg01cH6UiVS/tZ/7PRfuqZdVqaCTnfsrOHUdc4mEovVdCSpS59IEBk3BoJPlO3wEiVdxhoJJmtEnnGM3gjv1CWEtoUqeyAynPwkjBQlqkG2qR0z9GLIci4S0KR1mgLJ2RIlbnA0RZVpZJ7KIlaTc2wW6mCUV6S9PZmtKYVlu2agPMVthUX6vVsoWrh56uASJWg58LptNKplqD46CBDWvL4HEe+kCJQtvaOAPk44kKU1ghzvE2r0gMe8IBIhTjII3WPQKp1R6j+VfIo7UdyWKPnlhKKuXv5hg5Q2ntZUWUTo4Vd0EiVS0iidEwZcm4GAWBTsFTgxNnggUn1WF4Qi0Zq3c0PSgEB1toNszPvwEiU7wl0S4qSfkvt5F5p259cVnNtFrWfdmu7rTy59BTAEzr4MBM2WSoNTuO6N+CcSITyZyN5hHONK8/lJeSSpxN1Za9F5wSGpMHYYoOov6BU6Hm05NdoJ9hxD7fASJTgUkuVSs0LAeutXy215p1g2oZehU//2VzUg6+i5ox9/ti4dNb7L0K3TORIlMeE9B9/dWAHhNd2wUHM/WSU1c73dnp1LjTLk5QxnbNj2byJ6vSsy4BIlGoLOizo3oksPDq88XzEcZ5d2E8P+EftX/j12OdLaEg/VJZaUPm9MhP+uk8GTFdA+ws6EMDKMqky2NUIwHrtsqSFmvnASD7Q3BvZJzNkc59KHaKcaixRfGfC2VYt5orD5SVJ8mhIPtDifcNzFa8d4d4AajSR8ARW4nDntltA56LfXpjK0PqESAZcjHliY3Lme47G8Ky8WETFDAlth+wBVpsgMJJIPnN4Ganng4tmTLcDn1bMYMhg6moOfYsmoeCRcZb3t1cVLWWWGbzgSD54+f6PlTy88Tpc2QGMjQ2B9z45R3zRdfOtCPEaCwZK4ZD2C0BPZ2dTAADoQQIAAAAAAAAAAAADAAAA3xx90j8nJx8nMDMwNC0pKzUzMC8vNSotMTctNjQ0NjQ2KzEtMy82Mzs6NjQsLikmKycmKzAtKScoKCcuLzMuMjQlIyRIPnrAmKnyBrFSJmXfrWS7BdTcPiFcnQ/yzQDZX9IU8AnDO6OWLYBIPnj4uLWbdFZpiHbdpuSxNGPqE/bCdgVhhaU2bL/bcr9Q1Ai1ayBIPmnmys4Bj1/fiRusw4kFqXbBNkQtqmeY/wUizm9GSD49MCWfH475WKP7ErMWfwlOiF+0DvhYPmEZgLnzttJcs906pv1ASJKdern5H9SPW+4UQ1GHxyx6eV//Elytb+5Xt/F8HeXeK9UUBQVyO29sQpCI+PooSJMkx3Pgl7bJM36gSnXdi5WvelZQQztuF8iTgq7q/I3v97j81EOxj4gHtKerdiiZkKNASJPDDMT32/WP1Y8YP/pdUg3Bf2QYEuahu6OsyxVn79fRvz5d+VePN/QBSrrCFM1QSJR1ftGc/huu0dfLCFscF2DSJZXaSHwckAG1L1E+cML6jeqLI7HUWNmV0tTesZoB97tO8EiEvQ3Ydt6dSIM5EANcDkvNoetKEtNmUxfGmyJ1BM9vUeWzHYeGPrlwo8J/zkiU1H9+0sWxJz2oaVbPtuNagfBWWvgiPGu0eg+5IjO9TF9GH3rqn/5gSJRwBEblsSIvUZvASKxfsMqI+4DFasCWFZOgkRKOCQ2OIeFDGeP4CViraEi1Jun46xEwA9/OzaohYdyqDnbgjhrZDSJQQavphOQXw/Bi8pYwbLeikLmjV2+PcNleaC28SLXm96e57aayzyyfF2GPkCaN7LPZHX+dwDYK3iPqRlBEUZaY3r8SqvIIh+utkBLpkdwOSLOzhls1qp3TTYBXnaS/7MFZWCzQbg2VKQM6yFi7Dbe5xcngITiEgURBjtP9vZtASLPHtfowMixbntYjRYmSWTiTDu/9hQb1v2vGRDljWwhdbbdlvCH+lMj4xL3YYRhIs8erPQlK/stDFisShylrNRLYpS1/Mk2DjiSlTHx0WxhyJI3zdNLO9BOU/hwjqEi0QnA0ULyKp1CJbV5FGiQb+9LWaEdJ6dwkDq1NLUDMU7ayifDZe1Ws7TX5VzIvgs1H3ALZSLTyED8x1bxmVC49BFXE0fAcz7t517wYVjal04LLWjwk2SNBUJA7+nxQSLIMmYZM5BgobVCFn3BeBRMzJIlfWnFF1yqJSKW5W7r763f4q9volWj4Ef6bSLIUtUiBR9qCOrwrNONoKqHuyQ0LyIjaFsxQL6y//wka160LZm8Ep2VVwyhRKJ6OwEiwYeRldCCmyv6eltBa9DZf5ZQYe/wbVdP7jPadWWnXBjpoVL0VNv7Pm23YvnqEWp1ruW2xTeBIvx0VnGWNEi9PT+zsE4Bhr3lAfbvu6SuYWcQijBt9Stc2oGPYEVEz/EQhNoBIvx0N44fPTiwsG19U5JOs3VJ3H4r7md4RemKkrcp1w+fGj0+UOJ3qCFFzU1DKy+mlRzQov/JIsGGw/foFlgRucOZDZU2FD7TRbxS9WDI941Hy0w8pRj4V2APtG/jGG6aJHB1qGZdX0dHASLAzF+ExPLQAWbQfUuVtiPad62HQgdk4YQ2E7C38mzrSCEdq4/n7CrCjIlG2ajBf0JNHgEivMCKOuBKDEwcmcQ/zIJFRLZ0nu/yhZDQsx+aI7nv6u/+kfeKOv+KvbKeUuovFBxzvMYPP8EiwY2N8KoaaHluggDohxQ7JGwUZrqxr7KSxJ1AP/lekjq8KKdlz7mxdu6qcx1L2T56u1BhIsGHsruoxDl00wcK8Tdh8fh97oisqUK9kXwcG5cGKVy/lRqqawji/6mNLrVefLG94oMyAdPhIsOO0bCT+B44j9T26iQMARccgtQ+frbidLYyaSW1IgxGuPFBDBQ49Tl2wSLHsCbG+mzoH3U2V3NBkshF7GZmKxPGGYd0S2htGgmIrTMRI0Ef9wjp3sMxx6PQbwEixhMbkK9+MPUjYaQgDESgoCI0U4Lhq8q3lpzD+0M6deWlXg4YDY3Bhfda+6EiyFhTY7uPfIQ90T93tNGVjn5AmVInXdnVOrru+ntsJ7t1nHYxto5hJO/9Z2pmWWI/fMkixxmm2EUHIT8RpDWThbkvP82ccyuv05n36DYhpFMN9Rr8KNETMqVoJJdRIRlbgSLCdcJvz0w9wzRW11NWII97mX0hzFQe76BCrg3mi9xqGkxYTGhLmTp/Fz+YmuOv1v44vPCsGSLBiVvertDEcrgRvY4vkn9DPJMuRjTMLjihgn9Tj1bkhCQVCD0r6wY/PLvV5DATB+j6NSLB5d6ee4W7/TT8nUVIWtZFx0EdHhXPv71eHQFAE/OHFa/P6dIVHa1VOqcI1N7Y7tIzsj5q8++iDPYBIsic5cxNJO3qnZPgoKoVyWTqWyAoLo1MijWvYCnQH+kAIYxBPtGX+27Z+regiLD3q3/0zC0EBCmyASLO7v2B63oo4bDD7jGX/xqWkh0iDdrl44AAwro1uJc/kWw/GDr7P+b8ZI2fQtIzxtM2kVViASLVguXxj3BmbMBJ2V9B/v2kto56LvwHCWjbuhReCE72BpLx4mT4zpv9TyRIeMRrPuEbFkkiUIII3IKQRRZd7qKrvFC5wh9+7C0nBPInLsAGnUJCIuZlymwpaaNIiE5beSJY/6txz98hMOL/jwx2HB0AXoC2GqYbMN/GJRBb8NcoZ1Wwj/pUn45ctxz1HQEiXGAsMLcUb8v+ImuIgnJp285kOF1yjSL2j8qGfyX5sE0VFtmVD9AUoSJcWg4J5Y/P5RcoG1ygX9Zf3bem1RNz6of0Vr3xX5FiadSwyOjRIlxaD5Lz8Omde0d0T4iDgcMfBOvcmHuE5qYdb9exZ1+CDa1ONWbPnx0XwSJbluK6epRrs5MQiD5zVsy5R4oplrDIMBttnGmDvKrr5oDP3vtksSJZusTVMKXyGopg9ZOTIhula8ez1eGNhj0n6wxcXFJMbQAXoDuxIlCBItRIS6vW7J9gHvh8I/kHovyXBDW0ef9v1BLmSLun4Y5aRZMmGCUnOSLaak6SP0OibgiX5R85/vg5M0tE4t3LVXeQxjpZk7W7LJeh1Q/F+nZ2WZGmSzE8gSLW3kwTouYuzADGoyGthWAOTYOY+u27srC5PVJVpSx8P/K/ZmnDu4TjRvQrgSLUI7RRkrusiOXMdxj08O68GS8+JMM8BGmowePVD/BRbAnfbYF2JGyhItQUrW9miPb0G0dUYPSliCSghHGaKicE/skuFVBkCcgLSQ0xcXLRIs8xMNwWtHFkV7CQErEW6O29zHbPov8wYPriuppsFU/L1XzAT2fMkSLO0H2OV5iPtd92LA3rK+y//BlUx+AUToaRx7D/5PwqjoOOTpHh1EEizv7z+xWeJKY4ZfMXms6iMZhnUYpEeZvXa5Sp0oJNja8LYL22J9UiyFOxfjABvU4ws1TG9qbZgFblAfSmlUCYIbJpaGBycPnh3hVY7BgKD67mrVg1IshSFR/6jqxTY9m+XqTFnIWWCUPZ0s+vgcl3z+8nIfoxmldbdDqE3vgqp/HG4XEiyIFe/NLnlyqi1DdxXwoLa2bogwAsM4K/Wkytue6zOkd/zXUCduY0DzIwwEpNqN70acEiyGf5pN2iKhtxITqgMxvjW/vIyXE1DU0iiWCzqYl9JXZrIT++JQZGlNPJTrsNIshTsKD8sh39yg0lgLWHUY4NUKvLcYDcx89ILb/BgsoNgcGrwxuZt51SxbaNStaZYEEix7GKZswy2JRQon+ZBsj8xwfC5XOJeEy6cNn627mmZDQM4KGNS62Bqvg1s6kw1LGjLO+hIPs9Ct0+NV5VnPRYnPxDl9TpZj1KM8ixPmwqNbGvl2Npesv7wSAZT0X8JNvOOROH3C2dc7+tViwh1Q5b493xpd02LVFsBO4BIPnj8oBVXlj44LTJY+OcYDNOq3VU43OC9/9fQd9Snot7VP1I=\" type=\"audio/ogg\" />\n",
              "                    Your browser does not support the audio element.\n",
              "                </audio>\n",
              "              "
            ],
            "text/plain": [
              "<IPython.lib.display.Audio object>"
            ]
          },
          "metadata": {
            "tags": []
          },
          "execution_count": 11
        }
      ]
    },
    {
      "cell_type": "code",
      "metadata": {
        "id": "RQ1z0U8oehl1"
      },
      "source": [
        "json_file = open('/content/drive/My Drive/AUG/model_json_aug.json', 'r')\n",
        "loaded_model_json = json_file.read()\n",
        "json_file.close()\n",
        "loaded_model = model_from_json(loaded_model_json)\n",
        "\n",
        "# load weights into new model\n",
        "loaded_model.load_weights(\"/content/drive/My Drive/AUG/saved_models/Emotion_Model_aug.h5\")\n",
        "\n",
        "# the optimiser\n",
        "opt = tf.keras.optimizers.RMSprop(lr=0.00001, decay=1e-6)\n",
        "loaded_model.compile(loss='categorical_crossentropy', optimizer=opt, metrics=['accuracy'])"
      ],
      "execution_count": null,
      "outputs": []
    },
    {
      "cell_type": "code",
      "metadata": {
        "id": "_jANQqEkemSz",
        "outputId": "7b1f749e-84e2-46ba-e79f-35cfb20d8da4",
        "colab": {
          "base_uri": "https://localhost:8080/",
          "height": 129
        }
      },
      "source": [
        "\n",
        "X, sample_rate = librosa.load('/content/drive/My Drive/sample/WhatsApp Ptt 2020-10-10 at 5.30.49 PM.ogg'\n",
        "                              ,res_type='kaiser_fast'\n",
        "                              ,duration=2.5\n",
        "                              ,sr=44100\n",
        "                              ,offset=0.5\n",
        "                             )\n",
        "\n",
        "sample_rate = np.array(sample_rate)\n",
        "mfccs = np.mean(librosa.feature.mfcc(y=X, sr=sample_rate, n_mfcc=13),axis=0)\n",
        "newdf = pd.DataFrame(data=mfccs).T\n",
        "newdf"
      ],
      "execution_count": null,
      "outputs": [
        {
          "output_type": "execute_result",
          "data": {
            "text/html": [
              "<div>\n",
              "<style scoped>\n",
              "    .dataframe tbody tr th:only-of-type {\n",
              "        vertical-align: middle;\n",
              "    }\n",
              "\n",
              "    .dataframe tbody tr th {\n",
              "        vertical-align: top;\n",
              "    }\n",
              "\n",
              "    .dataframe thead th {\n",
              "        text-align: right;\n",
              "    }\n",
              "</style>\n",
              "<table border=\"1\" class=\"dataframe\">\n",
              "  <thead>\n",
              "    <tr style=\"text-align: right;\">\n",
              "      <th></th>\n",
              "      <th>0</th>\n",
              "      <th>1</th>\n",
              "      <th>2</th>\n",
              "      <th>3</th>\n",
              "      <th>4</th>\n",
              "      <th>5</th>\n",
              "      <th>6</th>\n",
              "      <th>7</th>\n",
              "      <th>8</th>\n",
              "      <th>9</th>\n",
              "      <th>10</th>\n",
              "      <th>11</th>\n",
              "      <th>12</th>\n",
              "      <th>13</th>\n",
              "      <th>14</th>\n",
              "      <th>15</th>\n",
              "      <th>16</th>\n",
              "      <th>17</th>\n",
              "      <th>18</th>\n",
              "      <th>19</th>\n",
              "      <th>20</th>\n",
              "      <th>21</th>\n",
              "      <th>22</th>\n",
              "      <th>23</th>\n",
              "      <th>24</th>\n",
              "      <th>25</th>\n",
              "      <th>26</th>\n",
              "      <th>27</th>\n",
              "      <th>28</th>\n",
              "      <th>29</th>\n",
              "      <th>30</th>\n",
              "      <th>31</th>\n",
              "      <th>32</th>\n",
              "      <th>33</th>\n",
              "      <th>34</th>\n",
              "      <th>35</th>\n",
              "      <th>36</th>\n",
              "      <th>37</th>\n",
              "      <th>38</th>\n",
              "      <th>39</th>\n",
              "      <th>...</th>\n",
              "      <th>176</th>\n",
              "      <th>177</th>\n",
              "      <th>178</th>\n",
              "      <th>179</th>\n",
              "      <th>180</th>\n",
              "      <th>181</th>\n",
              "      <th>182</th>\n",
              "      <th>183</th>\n",
              "      <th>184</th>\n",
              "      <th>185</th>\n",
              "      <th>186</th>\n",
              "      <th>187</th>\n",
              "      <th>188</th>\n",
              "      <th>189</th>\n",
              "      <th>190</th>\n",
              "      <th>191</th>\n",
              "      <th>192</th>\n",
              "      <th>193</th>\n",
              "      <th>194</th>\n",
              "      <th>195</th>\n",
              "      <th>196</th>\n",
              "      <th>197</th>\n",
              "      <th>198</th>\n",
              "      <th>199</th>\n",
              "      <th>200</th>\n",
              "      <th>201</th>\n",
              "      <th>202</th>\n",
              "      <th>203</th>\n",
              "      <th>204</th>\n",
              "      <th>205</th>\n",
              "      <th>206</th>\n",
              "      <th>207</th>\n",
              "      <th>208</th>\n",
              "      <th>209</th>\n",
              "      <th>210</th>\n",
              "      <th>211</th>\n",
              "      <th>212</th>\n",
              "      <th>213</th>\n",
              "      <th>214</th>\n",
              "      <th>215</th>\n",
              "    </tr>\n",
              "  </thead>\n",
              "  <tbody>\n",
              "    <tr>\n",
              "      <th>0</th>\n",
              "      <td>-6.70877</td>\n",
              "      <td>-7.422569</td>\n",
              "      <td>-8.63776</td>\n",
              "      <td>-6.099887</td>\n",
              "      <td>-5.436844</td>\n",
              "      <td>-5.943503</td>\n",
              "      <td>-8.254206</td>\n",
              "      <td>-10.242081</td>\n",
              "      <td>-9.885151</td>\n",
              "      <td>-6.906557</td>\n",
              "      <td>-5.983425</td>\n",
              "      <td>-3.029578</td>\n",
              "      <td>-1.873938</td>\n",
              "      <td>-3.424155</td>\n",
              "      <td>-5.288012</td>\n",
              "      <td>-6.475496</td>\n",
              "      <td>-6.307769</td>\n",
              "      <td>-4.631351</td>\n",
              "      <td>-4.085505</td>\n",
              "      <td>-4.768724</td>\n",
              "      <td>-3.072354</td>\n",
              "      <td>-0.31172</td>\n",
              "      <td>-0.284392</td>\n",
              "      <td>-3.146017</td>\n",
              "      <td>-5.689101</td>\n",
              "      <td>-5.36158</td>\n",
              "      <td>-4.828542</td>\n",
              "      <td>-5.32755</td>\n",
              "      <td>-1.358329</td>\n",
              "      <td>-0.230825</td>\n",
              "      <td>0.38034</td>\n",
              "      <td>0.614132</td>\n",
              "      <td>-0.291194</td>\n",
              "      <td>-3.813641</td>\n",
              "      <td>-2.976577</td>\n",
              "      <td>-1.987285</td>\n",
              "      <td>-2.082697</td>\n",
              "      <td>-1.131319</td>\n",
              "      <td>0.42377</td>\n",
              "      <td>-0.289635</td>\n",
              "      <td>...</td>\n",
              "      <td>-4.697441</td>\n",
              "      <td>-4.695516</td>\n",
              "      <td>-5.535732</td>\n",
              "      <td>-5.538737</td>\n",
              "      <td>-5.326729</td>\n",
              "      <td>-4.645002</td>\n",
              "      <td>-3.059988</td>\n",
              "      <td>-4.35269</td>\n",
              "      <td>-8.952375</td>\n",
              "      <td>-10.022192</td>\n",
              "      <td>-7.518728</td>\n",
              "      <td>-6.738299</td>\n",
              "      <td>-6.153591</td>\n",
              "      <td>-5.412624</td>\n",
              "      <td>-8.475688</td>\n",
              "      <td>-10.379973</td>\n",
              "      <td>-10.656225</td>\n",
              "      <td>-8.849454</td>\n",
              "      <td>-7.523123</td>\n",
              "      <td>-7.70182</td>\n",
              "      <td>-6.79228</td>\n",
              "      <td>-7.318581</td>\n",
              "      <td>-6.497276</td>\n",
              "      <td>-5.830551</td>\n",
              "      <td>-3.485508</td>\n",
              "      <td>-4.221387</td>\n",
              "      <td>-7.633576</td>\n",
              "      <td>-7.389871</td>\n",
              "      <td>-7.227342</td>\n",
              "      <td>-5.838514</td>\n",
              "      <td>-5.663262</td>\n",
              "      <td>-7.555474</td>\n",
              "      <td>-8.381383</td>\n",
              "      <td>-6.614356</td>\n",
              "      <td>-6.739068</td>\n",
              "      <td>-7.659476</td>\n",
              "      <td>-10.13311</td>\n",
              "      <td>-9.816707</td>\n",
              "      <td>-6.613499</td>\n",
              "      <td>-4.919301</td>\n",
              "    </tr>\n",
              "  </tbody>\n",
              "</table>\n",
              "<p>1 rows × 216 columns</p>\n",
              "</div>"
            ],
            "text/plain": [
              "       0         1        2         3    ...       212       213       214       215\n",
              "0 -6.70877 -7.422569 -8.63776 -6.099887  ... -10.13311 -9.816707 -6.613499 -4.919301\n",
              "\n",
              "[1 rows x 216 columns]"
            ]
          },
          "metadata": {
            "tags": []
          },
          "execution_count": 13
        }
      ]
    },
    {
      "cell_type": "code",
      "metadata": {
        "id": "--VrUH8eeoQl",
        "outputId": "a86c4242-cc30-4e8a-cccb-d4b75a3383fe",
        "colab": {
          "base_uri": "https://localhost:8080/",
          "height": 102
        }
      },
      "source": [
        "# Apply predictions\n",
        "newdf= np.expand_dims(newdf, axis=2)\n",
        "newpred = loaded_model.predict(newdf, \n",
        "                         batch_size=16, \n",
        "                         verbose=1)\n",
        "\n",
        "newpred"
      ],
      "execution_count": null,
      "outputs": [
        {
          "output_type": "stream",
          "text": [
            "1/1 [==============================] - 0s 2ms/step\n"
          ],
          "name": "stdout"
        },
        {
          "output_type": "execute_result",
          "data": {
            "text/plain": [
              "array([[9.5739855e-20, 1.8849677e-08, 3.7334083e-15, 1.0438839e-25,\n",
              "        5.0365813e-19, 8.3858604e-03, 5.5209177e-18, 1.5896252e-05,\n",
              "        1.1031275e-05, 3.6551952e-01, 5.1730336e-07, 3.2550863e-05,\n",
              "        6.2603456e-01, 2.7862034e-17]], dtype=float32)"
            ]
          },
          "metadata": {
            "tags": []
          },
          "execution_count": 14
        }
      ]
    },
    {
      "cell_type": "code",
      "metadata": {
        "id": "LQAf23E-eqsn",
        "outputId": "b3453ffc-b81c-45bc-de01-dc3e41240f0e",
        "colab": {
          "base_uri": "https://localhost:8080/",
          "height": 88
        }
      },
      "source": [
        "import pickle\n",
        "filename = '/content/drive/My Drive/AUG/labels'\n",
        "infile = open(filename,'rb')\n",
        "lb = pickle.load(infile)\n",
        "infile.close()\n",
        "\n",
        "# Get the final predicted label\n",
        "final = newpred.argmax(axis=1)\n",
        "final = final.astype(int).flatten()\n",
        "final = (lb.inverse_transform((final)))\n",
        "print(final)"
      ],
      "execution_count": null,
      "outputs": [
        {
          "output_type": "stream",
          "text": [
            "['male_sad']\n"
          ],
          "name": "stdout"
        },
        {
          "output_type": "stream",
          "text": [
            "/usr/local/lib/python3.6/dist-packages/sklearn/base.py:318: UserWarning: Trying to unpickle estimator LabelEncoder from version 0.21.3 when using version 0.22.2.post1. This might lead to breaking code or invalid results. Use at your own risk.\n",
            "  UserWarning)\n"
          ],
          "name": "stderr"
        }
      ]
    }
  ]
}